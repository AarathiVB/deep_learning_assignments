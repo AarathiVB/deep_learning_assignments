{
  "cells": [
    {
      "cell_type": "markdown",
      "metadata": {
        "id": "fQqNikzLwhy-"
      },
      "source": [
        "# Assignment 3: Keras & CNNs\n",
        "\n",
        "## Submitted by: Aarathi Vijayachandran Chettiar Bhagavathi (244267)\n",
        "\n",
        "### Assignment question is available here: https://ovgu-ailab.github.io/idl2023/assignment3.html"
      ]
    },
    {
      "cell_type": "markdown",
      "metadata": {
        "id": "-z10-D62wwNc"
      },
      "source": [
        "## CNN on MNIST dataset\n",
        "\n",
        "### Code - 1"
      ]
    },
    {
      "cell_type": "code",
      "execution_count": 1,
      "metadata": {
        "colab": {
          "base_uri": "https://localhost:8080/"
        },
        "id": "fynvAb44Xv9y",
        "outputId": "ff2d9c50-c2a2-4ab3-ffd8-c32fb3300654"
      },
      "outputs": [
        {
          "name": "stdout",
          "output_type": "stream",
          "text": [
            "Downloading data from https://storage.googleapis.com/tensorflow/tf-keras-datasets/mnist.npz\n",
            "11490434/11490434 [==============================] - 1s 0us/step\n",
            "Epoch 1/5\n",
            "1875/1875 [==============================] - 59s 31ms/step - loss: 0.1400 - accuracy: 0.9563 - val_loss: 0.0649 - val_accuracy: 0.9772\n",
            "Epoch 2/5\n",
            "1875/1875 [==============================] - 55s 29ms/step - loss: 0.0465 - accuracy: 0.9856 - val_loss: 0.0432 - val_accuracy: 0.9860\n",
            "Epoch 3/5\n",
            "1875/1875 [==============================] - 54s 29ms/step - loss: 0.0339 - accuracy: 0.9898 - val_loss: 0.0490 - val_accuracy: 0.9846\n",
            "Epoch 4/5\n",
            "1875/1875 [==============================] - 55s 29ms/step - loss: 0.0261 - accuracy: 0.9919 - val_loss: 0.0315 - val_accuracy: 0.9906\n",
            "Epoch 5/5\n",
            "1875/1875 [==============================] - 54s 29ms/step - loss: 0.0199 - accuracy: 0.9938 - val_loss: 0.0324 - val_accuracy: 0.9915\n",
            "313/313 [==============================] - 4s 12ms/step - loss: 0.0324 - accuracy: 0.9915\n",
            "Test accuracy: 0.9915000200271606\n"
          ]
        }
      ],
      "source": [
        "import tensorflow as tf\n",
        "from tensorflow.keras import layers, models\n",
        "\n",
        "# Load the MNIST dataset\n",
        "mnist = tf.keras.datasets.mnist\n",
        "(x_train, y_train), (x_test, y_test) = mnist.load_data()\n",
        "\n",
        "# Normalize pixel values to be in the range [0, 1]\n",
        "x_train, x_test = x_train / 255.0, x_test / 255.0\n",
        "\n",
        "# Reshape the data to have the format (width, height, channels)\n",
        "x_train = x_train.reshape(x_train.shape[0], 28, 28, 1)\n",
        "x_test = x_test.reshape(x_test.shape[0], 28, 28, 1)\n",
        "\n",
        "# Create a sequential model\n",
        "model = models.Sequential()\n",
        "\n",
        "# Add Convolutional layers with MaxPool2D layers\n",
        "model.add(layers.Conv2D(32, (3, 3), activation='relu', input_shape=(28, 28, 1)))\n",
        "model.add(layers.MaxPooling2D((2, 2)))\n",
        "model.add(layers.Conv2D(64, (3, 3), activation='relu'))\n",
        "model.add(layers.MaxPooling2D((2, 2)))\n",
        "model.add(layers.Conv2D(64, (3, 3), activation='relu'))\n",
        "\n",
        "# Flatten the output for the fully connected layers\n",
        "model.add(layers.Flatten())\n",
        "\n",
        "# Add Dense (fully connected) layers\n",
        "model.add(layers.Dense(64, activation='relu'))\n",
        "model.add(layers.Dense(10, activation='softmax'))  # 10 classes for digits 0-9\n",
        "\n",
        "# Compile the model\n",
        "model.compile(optimizer='adam',\n",
        "              loss='sparse_categorical_crossentropy',\n",
        "              metrics=['accuracy'])\n",
        "\n",
        "# Train the model\n",
        "model.fit(x_train, y_train, epochs=5, validation_data=(x_test, y_test))\n",
        "\n",
        "# Evaluate the model\n",
        "test_loss, test_acc = model.evaluate(x_test, y_test)\n",
        "print(f\"Test accuracy: {test_acc}\")\n"
      ]
    },
    {
      "cell_type": "markdown",
      "metadata": {
        "id": "ictD8Tepw8kn"
      },
      "source": [
        "CNN on MNIST dataset:\n",
        "\n",
        "\n",
        "*   Keras used\n",
        "*   3 * 3 kernel used\n",
        "*   3 Conv2D and 2 MaxPool2D layers added\n",
        "*   2 Dense layers added\n",
        "*   Adam optimizer used\n",
        "\n",
        "High test accuracy obtained. Test accuracy: 0.9915000200271606"
      ]
    },
    {
      "cell_type": "markdown",
      "metadata": {
        "id": "2pkswP4Pw33D"
      },
      "source": [
        "## CNN on CIFAR dataset\n",
        "\n",
        "### Code - 2"
      ]
    },
    {
      "cell_type": "code",
      "execution_count": 5,
      "metadata": {
        "colab": {
          "base_uri": "https://localhost:8080/"
        },
        "id": "qtXe7G4la8Sb",
        "outputId": "3c3b6eed-234c-4fd1-9978-6443627ef597"
      },
      "outputs": [
        {
          "name": "stdout",
          "output_type": "stream",
          "text": [
            "Downloading data from https://www.cs.toronto.edu/~kriz/cifar-10-python.tar.gz\n",
            "170498071/170498071 [==============================] - 10s 0us/step\n",
            "Epoch 1/10\n",
            "1563/1563 [==============================] - 71s 45ms/step - loss: 1.5310 - accuracy: 0.4380 - val_loss: 1.2512 - val_accuracy: 0.5530\n",
            "Epoch 2/10\n",
            "1563/1563 [==============================] - 70s 45ms/step - loss: 1.1608 - accuracy: 0.5879 - val_loss: 1.1162 - val_accuracy: 0.6059\n",
            "Epoch 3/10\n",
            "1563/1563 [==============================] - 68s 43ms/step - loss: 1.0080 - accuracy: 0.6456 - val_loss: 1.0276 - val_accuracy: 0.6361\n",
            "Epoch 4/10\n",
            "1563/1563 [==============================] - 68s 44ms/step - loss: 0.9108 - accuracy: 0.6810 - val_loss: 0.9769 - val_accuracy: 0.6597\n",
            "Epoch 5/10\n",
            "1563/1563 [==============================] - 68s 44ms/step - loss: 0.8345 - accuracy: 0.7076 - val_loss: 0.9040 - val_accuracy: 0.6895\n",
            "Epoch 6/10\n",
            "1563/1563 [==============================] - 70s 45ms/step - loss: 0.7768 - accuracy: 0.7279 - val_loss: 0.9035 - val_accuracy: 0.6900\n",
            "Epoch 7/10\n",
            "1563/1563 [==============================] - 69s 44ms/step - loss: 0.7295 - accuracy: 0.7438 - val_loss: 0.8853 - val_accuracy: 0.7016\n",
            "Epoch 8/10\n",
            "1563/1563 [==============================] - 67s 43ms/step - loss: 0.6881 - accuracy: 0.7593 - val_loss: 0.8829 - val_accuracy: 0.7009\n",
            "Epoch 9/10\n",
            "1563/1563 [==============================] - 69s 44ms/step - loss: 0.6476 - accuracy: 0.7713 - val_loss: 0.8488 - val_accuracy: 0.7197\n",
            "Epoch 10/10\n",
            "1563/1563 [==============================] - 70s 44ms/step - loss: 0.6096 - accuracy: 0.7874 - val_loss: 0.8927 - val_accuracy: 0.7065\n",
            "313/313 [==============================] - 4s 14ms/step - loss: 0.8927 - accuracy: 0.7065\n",
            "Test accuracy: 0.7064999938011169\n"
          ]
        }
      ],
      "source": [
        "import tensorflow as tf\n",
        "from tensorflow.keras import layers, models\n",
        "from tensorflow.keras.optimizers import Adam\n",
        "\n",
        "# Load the CIFAR-10 dataset\n",
        "(x_train, y_train), (x_test, y_test) = tf.keras.datasets.cifar10.load_data()\n",
        "\n",
        "# Normalize pixel values to be in the range [0, 1]\n",
        "x_train, x_test = x_train / 255.0, x_test / 255.0\n",
        "\n",
        "# Convert labels to 1D array\n",
        "y_train = y_train.reshape(-1)\n",
        "y_test = y_test.reshape(-1)\n",
        "\n",
        "# Create a sequential model\n",
        "model = models.Sequential()\n",
        "\n",
        "# Add Convolutional layers with MaxPool2D layers\n",
        "model.add(layers.Conv2D(32, (3, 3), activation='relu', input_shape=(32, 32, 3)))\n",
        "model.add(layers.MaxPooling2D((2, 2)))\n",
        "model.add(layers.Conv2D(64, (3, 3), activation='relu'))\n",
        "model.add(layers.MaxPooling2D((2, 2)))\n",
        "model.add(layers.Conv2D(64, (3, 3), activation='relu'))\n",
        "\n",
        "# Flatten the output for the fully connected layers\n",
        "model.add(layers.Flatten())\n",
        "\n",
        "# Add Dense (fully connected) layers\n",
        "model.add(layers.Dense(64, activation='relu'))\n",
        "model.add(layers.Dense(10, activation='softmax'))  # 10 classes for CIFAR-10\n",
        "\n",
        "# Compile the model with Adam optimizer\n",
        "optimizer = Adam(learning_rate=0.001)\n",
        "model.compile(optimizer=optimizer,\n",
        "              loss='sparse_categorical_crossentropy',\n",
        "              metrics=['accuracy'])\n",
        "\n",
        "# Train the model\n",
        "model.fit(x_train, y_train, epochs=10, validation_data=(x_test, y_test))\n",
        "\n",
        "# Evaluate the model\n",
        "test_loss, test_acc = model.evaluate(x_test, y_test)\n",
        "print(f\"Test accuracy: {test_acc}\")\n"
      ]
    },
    {
      "cell_type": "markdown",
      "metadata": {
        "id": "DmsGVvvAx-wY"
      },
      "source": [
        "CNN on CIFAR dataset:\n",
        "*   Keras used\n",
        "*   3 * 3 kernel used\n",
        "*   3 Conv2D and 2 MaxPool2D layers added\n",
        "*   2 Dense layers added\n",
        "*   Adam optimizer used\n",
        "\n",
        "Test accuracy: 0.7064999938011169"
      ]
    },
    {
      "cell_type": "markdown",
      "metadata": {
        "id": "0C5urkauyW5Y"
      },
      "source": [
        "## Experiments :"
      ]
    },
    {
      "cell_type": "markdown",
      "metadata": {
        "id": "H3VUWPIayqFy"
      },
      "source": [
        "### 1) Using 5*5 kernel on Code - 2"
      ]
    },
    {
      "cell_type": "code",
      "execution_count": 13,
      "metadata": {
        "colab": {
          "base_uri": "https://localhost:8080/"
        },
        "id": "9yv_7NNDwKj5",
        "outputId": "a6eb30bf-e59a-4c61-f680-e668a132de11"
      },
      "outputs": [
        {
          "name": "stdout",
          "output_type": "stream",
          "text": [
            "Epoch 1/10\n",
            "1563/1563 [==============================] - 301s 192ms/step - loss: 1.4696 - accuracy: 0.4666 - val_loss: 1.2487 - val_accuracy: 0.5536\n",
            "Epoch 2/10\n",
            "1563/1563 [==============================] - 294s 188ms/step - loss: 1.1178 - accuracy: 0.6036 - val_loss: 1.1125 - val_accuracy: 0.6076\n",
            "Epoch 3/10\n",
            "1563/1563 [==============================] - 297s 190ms/step - loss: 0.9446 - accuracy: 0.6662 - val_loss: 0.9982 - val_accuracy: 0.6516\n",
            "Epoch 4/10\n",
            "1563/1563 [==============================] - 296s 189ms/step - loss: 0.8100 - accuracy: 0.7151 - val_loss: 1.0035 - val_accuracy: 0.6588\n",
            "Epoch 5/10\n",
            "1563/1563 [==============================] - 293s 188ms/step - loss: 0.7055 - accuracy: 0.7502 - val_loss: 0.9345 - val_accuracy: 0.6869\n",
            "Epoch 6/10\n",
            "1563/1563 [==============================] - 293s 187ms/step - loss: 0.6108 - accuracy: 0.7834 - val_loss: 1.0298 - val_accuracy: 0.6743\n",
            "Epoch 7/10\n",
            "1563/1563 [==============================] - 283s 181ms/step - loss: 0.5271 - accuracy: 0.8129 - val_loss: 1.0164 - val_accuracy: 0.6911\n",
            "Epoch 8/10\n",
            "1563/1563 [==============================] - 284s 182ms/step - loss: 0.4506 - accuracy: 0.8406 - val_loss: 1.0900 - val_accuracy: 0.6802\n",
            "Epoch 9/10\n",
            "1563/1563 [==============================] - 292s 187ms/step - loss: 0.3889 - accuracy: 0.8623 - val_loss: 1.1941 - val_accuracy: 0.6830\n",
            "Epoch 10/10\n",
            "1563/1563 [==============================] - 282s 180ms/step - loss: 0.3256 - accuracy: 0.8823 - val_loss: 1.3251 - val_accuracy: 0.6750\n",
            "313/313 [==============================] - 12s 39ms/step - loss: 1.3251 - accuracy: 0.6750\n",
            "Test accuracy: 0.675000011920929\n"
          ]
        }
      ],
      "source": [
        "import tensorflow as tf\n",
        "from tensorflow.keras import layers, models\n",
        "from tensorflow.keras.optimizers import Adam\n",
        "\n",
        "# Load the CIFAR-10 dataset\n",
        "(x_train, y_train), (x_test, y_test) = tf.keras.datasets.cifar10.load_data()\n",
        "\n",
        "# Normalize pixel values to be in the range [0, 1]\n",
        "x_train, x_test = x_train / 255.0, x_test / 255.0\n",
        "\n",
        "# Convert labels to 1D array\n",
        "y_train = y_train.reshape(-1)\n",
        "y_test = y_test.reshape(-1)\n",
        "\n",
        "# Create a sequential model\n",
        "model = models.Sequential()\n",
        "\n",
        "# Add Convolutional layers with MaxPool2D layers and larger filter sizes\n",
        "model.add(layers.Conv2D(64, (5, 5), activation='relu', input_shape=(32, 32, 3)))\n",
        "model.add(layers.MaxPooling2D((2, 2)))\n",
        "model.add(layers.Conv2D(128, (5, 5), activation='relu'))\n",
        "model.add(layers.MaxPooling2D((2, 2)))\n",
        "model.add(layers.Conv2D(256, (5, 5), activation='relu'))\n",
        "\n",
        "# Flatten the output for the fully connected layers\n",
        "model.add(layers.Flatten())\n",
        "\n",
        "# Add Dense (fully connected) layers\n",
        "model.add(layers.Dense(256, activation='relu'))\n",
        "model.add(layers.Dense(10, activation='softmax'))  # 10 classes for CIFAR-10\n",
        "\n",
        "# Compile the model with Adam optimizer\n",
        "optimizer = Adam(learning_rate=0.001)\n",
        "model.compile(optimizer=optimizer,\n",
        "              loss='sparse_categorical_crossentropy',\n",
        "              metrics=['accuracy'])\n",
        "\n",
        "# Train the model\n",
        "model.fit(x_train, y_train, epochs=10, validation_data=(x_test, y_test))\n",
        "\n",
        "# Evaluate the model\n",
        "test_loss, test_acc = model.evaluate(x_test, y_test)\n",
        "print(f\"Test accuracy: {test_acc}\")\n"
      ]
    },
    {
      "cell_type": "markdown",
      "metadata": {
        "id": "iPshF-xV_3jR"
      },
      "source": [
        "Small reduction in accuracy from Test accuracy of Code-2: 0.7064999938011169 to Test accuracy: 0.675000011920929"
      ]
    },
    {
      "cell_type": "markdown",
      "metadata": {
        "id": "q-wLOzdFzxJn"
      },
      "source": [
        "### 2) Using Average Pooling instead of Max Pooling on Code - 2"
      ]
    },
    {
      "cell_type": "code",
      "execution_count": 14,
      "metadata": {
        "colab": {
          "base_uri": "https://localhost:8080/"
        },
        "id": "uvk0wetAzpl0",
        "outputId": "c7547904-6cd4-4547-a703-3b33c95d5cac"
      },
      "outputs": [
        {
          "name": "stdout",
          "output_type": "stream",
          "text": [
            "Epoch 1/10\n",
            "1563/1563 [==============================] - 59s 37ms/step - loss: 1.5990 - accuracy: 0.4166 - val_loss: 1.3427 - val_accuracy: 0.5133\n",
            "Epoch 2/10\n",
            "1563/1563 [==============================] - 57s 36ms/step - loss: 1.2498 - accuracy: 0.5546 - val_loss: 1.1859 - val_accuracy: 0.5790\n",
            "Epoch 3/10\n",
            "1563/1563 [==============================] - 59s 38ms/step - loss: 1.0997 - accuracy: 0.6135 - val_loss: 1.0490 - val_accuracy: 0.6253\n",
            "Epoch 4/10\n",
            "1563/1563 [==============================] - 60s 38ms/step - loss: 1.0006 - accuracy: 0.6467 - val_loss: 1.0141 - val_accuracy: 0.6441\n",
            "Epoch 5/10\n",
            "1563/1563 [==============================] - 59s 38ms/step - loss: 0.9197 - accuracy: 0.6777 - val_loss: 0.9478 - val_accuracy: 0.6658\n",
            "Epoch 6/10\n",
            "1563/1563 [==============================] - 58s 37ms/step - loss: 0.8623 - accuracy: 0.6974 - val_loss: 0.9161 - val_accuracy: 0.6797\n",
            "Epoch 7/10\n",
            "1563/1563 [==============================] - 57s 37ms/step - loss: 0.8129 - accuracy: 0.7161 - val_loss: 0.9675 - val_accuracy: 0.6649\n",
            "Epoch 8/10\n",
            "1563/1563 [==============================] - 60s 38ms/step - loss: 0.7690 - accuracy: 0.7301 - val_loss: 0.9069 - val_accuracy: 0.6876\n",
            "Epoch 9/10\n",
            "1563/1563 [==============================] - 58s 37ms/step - loss: 0.7302 - accuracy: 0.7435 - val_loss: 0.9036 - val_accuracy: 0.6902\n",
            "Epoch 10/10\n",
            "1563/1563 [==============================] - 58s 37ms/step - loss: 0.6953 - accuracy: 0.7569 - val_loss: 0.8796 - val_accuracy: 0.7011\n",
            "313/313 [==============================] - 5s 15ms/step - loss: 0.8796 - accuracy: 0.7011\n",
            "Test accuracy: 0.7010999917984009\n"
          ]
        }
      ],
      "source": [
        "import tensorflow as tf\n",
        "from tensorflow.keras import layers, models\n",
        "from tensorflow.keras.optimizers import Adam\n",
        "\n",
        "# Load the CIFAR-10 dataset\n",
        "(x_train, y_train), (x_test, y_test) = tf.keras.datasets.cifar10.load_data()\n",
        "\n",
        "# Normalize pixel values to be in the range [0, 1]\n",
        "x_train, x_test = x_train / 255.0, x_test / 255.0\n",
        "\n",
        "# Convert labels to 1D array\n",
        "y_train = y_train.reshape(-1)\n",
        "y_test = y_test.reshape(-1)\n",
        "\n",
        "# Create a sequential model\n",
        "model = models.Sequential()\n",
        "\n",
        "# Add Convolutional layers with AveragePooling2D layers\n",
        "model.add(layers.Conv2D(32, (3, 3), activation='relu', input_shape=(32, 32, 3)))\n",
        "model.add(layers.AveragePooling2D((2, 2)))\n",
        "model.add(layers.Conv2D(64, (3, 3), activation='relu'))\n",
        "model.add(layers.AveragePooling2D((2, 2)))\n",
        "model.add(layers.Conv2D(64, (3, 3), activation='relu'))\n",
        "\n",
        "# Flatten the output for the fully connected layers\n",
        "model.add(layers.Flatten())\n",
        "\n",
        "# Add Dense (fully connected) layers\n",
        "model.add(layers.Dense(64, activation='relu'))\n",
        "model.add(layers.Dense(10, activation='softmax'))  # 10 classes for CIFAR-10\n",
        "\n",
        "# Compile the model with Adam optimizer\n",
        "optimizer = Adam(learning_rate=0.001)\n",
        "model.compile(optimizer=optimizer,\n",
        "              loss='sparse_categorical_crossentropy',\n",
        "              metrics=['accuracy'])\n",
        "\n",
        "# Train the model\n",
        "model.fit(x_train, y_train, epochs=10, validation_data=(x_test, y_test))\n",
        "\n",
        "# Evaluate the model\n",
        "test_loss, test_acc = model.evaluate(x_test, y_test)\n",
        "print(f\"Test accuracy: {test_acc}\")\n"
      ]
    },
    {
      "cell_type": "markdown",
      "metadata": {
        "id": "QjbxON3LBuj5"
      },
      "source": [
        "Changing type of pooling does not have much effect on accuracy. Test accuracy: 0.7010999917984009, it is almost same as that of Code-2"
      ]
    },
    {
      "cell_type": "markdown",
      "metadata": {
        "id": "drWp4lKq02k4"
      },
      "source": [
        "### 3) Using Strided Convolutions instead of Max Pooling on Code - 2"
      ]
    },
    {
      "cell_type": "code",
      "execution_count": 1,
      "metadata": {
        "colab": {
          "base_uri": "https://localhost:8080/"
        },
        "id": "pN-HzWes0zr0",
        "outputId": "7214d90a-134b-4976-dbc7-1beafbe21daf"
      },
      "outputs": [
        {
          "name": "stdout",
          "output_type": "stream",
          "text": [
            "Epoch 1/10\n",
            "1563/1563 [==============================] - 25s 15ms/step - loss: 1.5733 - accuracy: 0.4276 - val_loss: 1.3443 - val_accuracy: 0.5078\n",
            "Epoch 2/10\n",
            "1563/1563 [==============================] - 26s 17ms/step - loss: 1.2592 - accuracy: 0.5516 - val_loss: 1.2149 - val_accuracy: 0.5641\n",
            "Epoch 3/10\n",
            "1563/1563 [==============================] - 29s 18ms/step - loss: 1.1236 - accuracy: 0.6021 - val_loss: 1.1234 - val_accuracy: 0.5970\n",
            "Epoch 4/10\n",
            "1563/1563 [==============================] - 27s 17ms/step - loss: 1.0327 - accuracy: 0.6353 - val_loss: 1.1195 - val_accuracy: 0.6069\n",
            "Epoch 5/10\n",
            "1563/1563 [==============================] - 24s 16ms/step - loss: 0.9607 - accuracy: 0.6606 - val_loss: 1.0350 - val_accuracy: 0.6356\n",
            "Epoch 6/10\n",
            "1563/1563 [==============================] - 24s 16ms/step - loss: 0.8935 - accuracy: 0.6852 - val_loss: 1.0177 - val_accuracy: 0.6428\n",
            "Epoch 7/10\n",
            "1563/1563 [==============================] - 24s 16ms/step - loss: 0.8366 - accuracy: 0.7027 - val_loss: 0.9870 - val_accuracy: 0.6553\n",
            "Epoch 8/10\n",
            "1563/1563 [==============================] - 23s 15ms/step - loss: 0.7861 - accuracy: 0.7228 - val_loss: 0.9912 - val_accuracy: 0.6586\n",
            "Epoch 9/10\n",
            "1563/1563 [==============================] - 23s 15ms/step - loss: 0.7427 - accuracy: 0.7376 - val_loss: 0.9793 - val_accuracy: 0.6667\n",
            "Epoch 10/10\n",
            "1563/1563 [==============================] - 24s 15ms/step - loss: 0.7049 - accuracy: 0.7505 - val_loss: 0.9839 - val_accuracy: 0.6623\n",
            "313/313 [==============================] - 2s 5ms/step - loss: 0.9839 - accuracy: 0.6623\n",
            "Test accuracy: 0.6622999906539917\n"
          ]
        }
      ],
      "source": [
        "import tensorflow as tf\n",
        "from tensorflow.keras import layers, models\n",
        "from tensorflow.keras.optimizers import Adam\n",
        "\n",
        "# Load the CIFAR-10 dataset\n",
        "(x_train, y_train), (x_test, y_test) = tf.keras.datasets.cifar10.load_data()\n",
        "\n",
        "# Normalize pixel values to be in the range [0, 1]\n",
        "x_train, x_test = x_train / 255.0, x_test / 255.0\n",
        "\n",
        "# Convert labels to 1D array\n",
        "y_train = y_train.reshape(-1)\n",
        "y_test = y_test.reshape(-1)\n",
        "\n",
        "# Create a sequential model\n",
        "model = models.Sequential()\n",
        "\n",
        "# Add Convolutional layers with strided convolutions\n",
        "model.add(layers.Conv2D(32, (3, 3), activation='relu', input_shape=(32, 32, 3), strides=(2, 2)))\n",
        "model.add(layers.Conv2D(64, (3, 3), activation='relu', strides=(2, 2)))\n",
        "model.add(layers.Conv2D(64, (3, 3), activation='relu', strides=(2, 2)))\n",
        "\n",
        "# Flatten the output for the fully connected layers\n",
        "model.add(layers.Flatten())\n",
        "\n",
        "# Add Dense (fully connected) layers\n",
        "model.add(layers.Dense(64, activation='relu'))\n",
        "model.add(layers.Dense(10, activation='softmax'))  # 10 classes for CIFAR-10\n",
        "\n",
        "# Compile the model with Adam optimizer\n",
        "optimizer = Adam(learning_rate=0.001)\n",
        "model.compile(optimizer=optimizer,\n",
        "              loss='sparse_categorical_crossentropy',\n",
        "              metrics=['accuracy'])\n",
        "\n",
        "# Train the model\n",
        "model.fit(x_train, y_train, epochs=10, validation_data=(x_test, y_test))\n",
        "\n",
        "# Evaluate the model\n",
        "test_loss, test_acc = model.evaluate(x_test, y_test)\n",
        "print(f\"Test accuracy: {test_acc}\")\n"
      ]
    },
    {
      "cell_type": "markdown",
      "metadata": {
        "id": "gn2ETbMj1qaI"
      },
      "source": [
        "Small reduction in accuracy from Test accuracy of Code-2: 0.7064999938011169 to Test accuracy: 0.6622999906539917"
      ]
    },
    {
      "cell_type": "markdown",
      "metadata": {
        "id": "7KrJL44g2HFs"
      },
      "source": []
    },
    {
      "cell_type": "markdown",
      "metadata": {
        "id": "TxeTDZky2qjI"
      },
      "source": []
    }
  ],
  "metadata": {
    "colab": {
      "provenance": []
    },
    "kernelspec": {
      "display_name": "Python 3",
      "name": "python3"
    },
    "language_info": {
      "name": "python"
    }
  },
  "nbformat": 4,
  "nbformat_minor": 0
}
