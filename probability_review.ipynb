{
  "cells": [
    {
      "cell_type": "markdown",
      "metadata": {
        "id": "Mt2greNLvJBa"
      },
      "source": [
        "# Assignment 1: Probability Review\n",
        "\n",
        "## Submitted By: Aarathi Vijayachandran (244267)\n",
        "\n",
        "### Assignment question is available here: https://ovgu-ailab.github.io/lgm2024/assignment1.html"
      ]
    },
    {
      "cell_type": "markdown",
      "metadata": {
        "id": "KkJox7Gdj1h3"
      },
      "source": [
        "# PART - 1\n",
        "##  Solving via simulation"
      ]
    },
    {
      "cell_type": "code",
      "execution_count": 2,
      "metadata": {
        "colab": {
          "base_uri": "https://localhost:8080/"
        },
        "id": "MF38r50za7z8",
        "outputId": "320f7236-f3bf-4f9c-beca-bcc531e88ef3"
      },
      "outputs": [
        {
          "name": "stdout",
          "output_type": "stream",
          "text": [
            "For a population size of 1000: Probability that an individual actually has the illness, given a positive test result: 46.67%\n",
            "Out of 15 people that tested positive, 7 are actually sick.\n",
            "\n",
            "\n",
            "\n",
            "For a population size of 10000: Probability that an individual actually has the illness, given a positive test result: 49.55%\n",
            "Out of 222 people that tested positive, 110 are actually sick.\n",
            "\n",
            "\n",
            "\n",
            "For a population size of 100000: Probability that an individual actually has the illness, given a positive test result: 49.61%\n",
            "Out of 1935 people that tested positive, 960 are actually sick.\n",
            "\n",
            "\n",
            "\n",
            "For a population size of 1000000: Probability that an individual actually has the illness, given a positive test result: 50.71%\n",
            "Out of 19725 people that tested positive, 10002 are actually sick.\n",
            "\n",
            "\n",
            "\n",
            "For a population size of 10000000: Probability that an individual actually has the illness, given a positive test result: 50.26%\n",
            "Out of 199637 people that tested positive, 100333 are actually sick.\n",
            "\n",
            "\n",
            "\n",
            "For a population size of 100000000: Probability that an individual actually has the illness, given a positive test result: 50.26%\n",
            "Out of 1990471 people that tested positive, 1000433 are actually sick.\n",
            "\n",
            "\n",
            "\n",
            "For a population size of 1000000000: Probability that an individual actually has the illness, given a positive test result: 50.22%\n",
            "Out of 19891603 people that tested positive, 9989609 are actually sick.\n",
            "\n",
            "\n",
            "\n"
          ]
        }
      ],
      "source": [
        "import numpy as np\n",
        "\n",
        "def simulate_illness_test(population_size):\n",
        "    # Generating the sickness status: 1% chance of being sick\n",
        "    sickness_status = np.random.rand(population_size) < 0.01\n",
        "\n",
        "    # Generating test results\n",
        "    # Sick individuals: 99.9% chance of testing positive\n",
        "    test_results_sick = np.random.rand(population_size) < 0.999\n",
        "    test_results_sick = np.logical_and(sickness_status, test_results_sick)\n",
        "\n",
        "    # Healthy individuals: 1% chance of testing positive\n",
        "    test_results_healthy = np.random.rand(population_size) < 0.01\n",
        "    test_results_healthy = np.logical_and(~sickness_status, test_results_healthy)\n",
        "\n",
        "    test_results = np.logical_or(test_results_sick, test_results_healthy)\n",
        "\n",
        "    # Calculate probability\n",
        "    true_positives = np.sum(test_results_sick)\n",
        "    total_positives = np.sum(test_results)\n",
        "    if total_positives == 0:\n",
        "        print(f\"For a population size of {population_size}: No positives detected.\")\n",
        "        return 0  # Avoid division by zero in case no positives\n",
        "    probability = true_positives / total_positives\n",
        "    print(f\"For a population size of {population_size}: Probability that an individual actually has the illness, given a positive test result: {probability*100:.2f}%\")\n",
        "    print(f\"Out of {total_positives} people that tested positive, {true_positives} are actually sick.\\n\\n\\n\")\n",
        "\n",
        "# Population sizes to test\n",
        "population_sizes = [1000, 10000, 100000, 1000000, 10000000, 100000000, 1000000000]\n",
        "\n",
        "for size in population_sizes:\n",
        "    simulate_illness_test(size)\n"
      ]
    },
    {
      "cell_type": "markdown",
      "metadata": {
        "id": "xcjPyYcjj5vj"
      },
      "source": [
        "## Solving via mathematics"
      ]
    },
    {
      "cell_type": "markdown",
      "metadata": {
        "id": "PTa2M678h1ol"
      },
      "source": [
        "### Given:\n",
        "\n",
        "1. **Prevalence of the illness/disease** (\\( P(D) \\)): 1% or 0.01\n",
        "   - This is the prior probability that a randomly selected person from the population is sick.\n",
        "2. **Sensitivity of the test** (\\( P(T|D) \\)): 99.9% or 0.999\n",
        "   - This is the probability that the test is positive given that the person is actually sick.\n",
        "3. **False positive rate** (\\( P(T|-D) \\)): 1% or 0.01\n",
        "   - This is the probability that the test is positive given that the person is not sick.\n",
        "\n",
        "### To find:\n",
        "\n",
        "The probability that a person is sick given that his/her test is positive (\\( P(D|T) \\)).\n",
        "\n",
        "### Applying Bayes' Theorem:\n",
        "\n",
        "Bayes' Theorem states:\n",
        "P(D|T) = {P(T|D) * P(D)}/{P(T)}\n",
        "\n",
        "Where \\( P(T) \\) (the probability of testing positive) is calculated using the law of total probability:\n",
        "P(T) = P(T|D) * P(D) + P(T| -D) * P(-D)\n",
        "\n",
        "### Calculations:\n",
        "\n",
        "1. **Calculate \\( P(-D) \\)**, the probability of not being sick:\n",
        "P(-D) = 1 - P(D) = 1 - 0.01 = 0.99\n",
        "\n",
        "2. **Calculate \\( P(T) \\)**:\n",
        "P(T) = (0.999 * 0.01) + (0.01 * 0.99) = 0.00999 + 0.0099 = 0.01989\n",
        "\n",
        "3. **Apply Bayes' Theorem**:\n",
        "P(D|T) = {0.999 * 0.01}/{0.01989} ~ 0.50226\n",
        "\n",
        "### Conclusion:\n",
        "\n",
        "The probability that a person actually has the illness, given that his/her test result is positive, is approximately 50.23%. This demonstrates the impact of the relatively high false positive rate in a low prevalence setting, where the test's specificity (or the complement of the false positive rate) becomes crucial in determining the accuracy of the test in predicting the disease."
      ]
    },
    {
      "cell_type": "markdown",
      "metadata": {
        "id": "RbiyLT8rlkS5"
      },
      "source": [
        "# PART-2\n",
        "\n",
        "## Case-1:\n",
        "\n",
        "### Given:\n",
        "\n",
        "1. **Prevalence of the illness/disease** (\\( P(D) \\)): 1% or 0.01\n",
        "   - This is the prior probability that a randomly selected person from the population is sick.\n",
        "2. **Sensitivity of the test** (\\( P(T|D) \\)): 99.9% or 0.999\n",
        "   - This is the probability that the test is positive given that the person is actually sick.\n",
        "3. **False positive rate** (\\( P(T|-D) \\)): 1% or 0.01\n",
        "   - This is the probability that the test is positive given that the person is not sick.\n",
        "\n",
        "### To find:\n",
        "\n",
        "The probability that a person is sick given that his/her test is negative (\\( P(D|-T) \\)).\n",
        "\n",
        "### Applying Bayes' Theorem:\n",
        "\n",
        "Bayes' Theorem states:\n",
        "P(D|-T) = {P(-T|D) * P(D)}/{P(-T)}\n",
        "\n",
        "Where \\( P(-T|D) \\) is the probability of a negative test given that the person is sick (the complement of the test's sensitivity):\n",
        "P(-T|D) = 1 - P(T|D) = 1 - 0.999 = 0.001\n",
        "\n",
        "And \\( P(-T) \\) (the probability of testing negative) is calculated using the law of total probability:\n",
        "P(-T) = P(-T|D) * P(D) + P(-T|-D) * P(-D)\n",
        "\n",
        "### Calculations:\n",
        "\n",
        "1. **Calculate \\( P(-D) \\)**, the probability of not being sick:\n",
        "P(-D) = 1 - P(D) = 0.99\n",
        "\n",
        "2. **Calculate \\( P(-T|-D) \\)**, the probability of a negative test given that the person is not sick (the complement of the false positive rate):\n",
        "P(-T|-D) = 1 - P(T|-D) = 1 - 0.01 = 0.99\n",
        "\n",
        "3. **Calculate \\( P(-T) \\)**:\n",
        "P(-T) = (0.001 * 0.01) + (0.99 * 0.99) = 0.00001 + 0.9801 = 0.98011\n",
        "\n",
        "4. **Apply Bayes' Theorem**:\n",
        "P(D|-T) = {0.001 * 0.01}/{0.98011} ~ 0.0000102\n",
        "\n",
        "### Conclusion:\n",
        "\n",
        "The probability that a person actually has the illness, given that his/her test result is negative, is approximately 0.00102%. This extremely low probability indicates that a negative test result in this scenario is very reliable at ruling out the disease, thanks to the high sensitivity of the test."
      ]
    },
    {
      "cell_type": "markdown",
      "metadata": {
        "id": "lhSVNwEYm_m5"
      },
      "source": [
        "## Case-2:\n",
        "\n",
        "- \\( D \\) as the event \"the person is sick\".\n",
        "- \\( T_1 \\) as the event \"the first test is positive\".\n",
        "- \\( T_2 \\) as the event \"the second test is positive\".\n",
        "\n",
        "### Given:\n",
        "\n",
        "1. **Prevalence of the illness/disease** (\\( P(D) \\)): 1% or 0.01.\n",
        "2. **Sensitivity of the first test** (\\( P(T_1|D) \\)): 99.9% or 0.999.\n",
        "3. **False positive rate of the first test** (\\( P(T_1|-D) \\)): 1% or 0.01.\n",
        "4. **Sensitivity of the second test** (\\( P(T_2|D) \\)): 96% or 0.96.\n",
        "5. **False positive rate of the second test** (\\( P(T_2|-D) \\)): 2% or 0.02.\n",
        "\n",
        "### To find:\n",
        "\n",
        "The probability that you are sick given that both tests are positive (\\( P(D|T_1 ∩ T_2) \\)).\n",
        "\n",
        "### Using Bayes' Theorem for Two Tests:\n",
        "\n",
        "We use Bayes' theorem in the context of two independent tests:\n",
        "P(D|T_1 ∩ T_2) = {P(T_1 ∩ T_2|D) * P(D)}/{P(T_1 ∩ T_2)}\n",
        "\n",
        "Where \\( P(T_1 ∩ T_2|D) \\) (the joint probability of both tests being positive given the person is sick) and \\( P(T_1 ∩ T_2) \\) (the joint probability of both tests being positive) need to be calculated.\n",
        "\n",
        "### Calculations:\n",
        "\n",
        "1. **Calculate \\( P(-D) \\)**, the probability of not being sick:\n",
        "P(-D) = 1 - P(D) = 0.99\n",
        "\n",
        "2. **Calculate \\( P(T_1 ∩ T_2|D) \\) using independence**:\n",
        "P(T_1 ∩ T_2|D) = P(T_1|D) * P(T_2|D) = 0.999 * 0.96 = 0.95904\n",
        "\n",
        "3. **Calculate \\( P(T_1 ∩ T_2|-D) \\) using independence**:\n",
        "P(T_1 ∩ T_2|-D) = P(T_1|-D) * P(T_2|-D) = 0.01 * 0.02 = 0.0002\n",
        "\n",
        "4. **Calculate \\( P(T_1 ∩ T_2) \\) using the law of total probability**:\n",
        "P(T_1 ∩ T_2) = P(T_1 ∩ T_2|D) * P(D) + P(T_1 ∩ T_2|-D) * P(-D) = 0.95904 * 0.01 + 0.0002 * 0.99 = 0.0095904 + 0.000198 = 0.0097884\n",
        "\n",
        "5. **Apply Bayes' Theorem**:\n",
        "P(D|T_1 ∩ T_2) = {0.95904 * 0.01}/{0.0097884} ~ 0.9794\n",
        "\n",
        "### Conclusion:\n",
        "\n",
        "The probability that you actually have the illness, given that both test results are positive, is approximately 97.94%. This result shows how the use of multiple independent tests can significantly increase the confidence in the diagnosis, even if the second test has higher error rates compared to the first."
      ]
    },
    {
      "cell_type": "markdown",
      "metadata": {
        "id": "JhjqAoryszF-"
      },
      "source": [
        "# Modeling Waiting Times"
      ]
    },
    {
      "cell_type": "markdown",
      "metadata": {
        "id": "7ZAIYbo2tBVZ"
      },
      "source": [
        "To model the waiting times for appointments, we should consider several characteristics of the data:\n",
        "\n",
        "1. **Non-negativity**: Waiting times cannot be negative.\n",
        "2. **Continuity**: Waiting times could be considered as real numbers (e.g., 12.5 minutes), although in some practical scenarios, they may be rounded to the nearest minute.\n",
        "3. **Shape of Distribution**: Waiting times are likely to be right-skewed, as most people experience short to moderate waiting times, but a few might experience very long waits.\n",
        "4. **Common Distribution**: A good candidate for modeling waiting times is the exponential distribution due to its simplicity and properties that align with the nature of waiting times (non-negative, continuous, and memoryless).\n",
        "\n",
        "### Exponential Distribution\n",
        "\n",
        "The exponential distribution is defined by the probability density function (PDF):\n",
        "\n",
        "$$ f(x|λ) = λ e^{-λ x} \\text{ for } x \\geq 0 $$\n",
        "\n",
        "where \\( λ > 0 \\) is the rate parameter.\n",
        "\n",
        "#### Estimation via Maximum Likelihood\n",
        "\n",
        "For a set of observed waiting times \\( X = \\{x_1, x_2, ..., x_n\\} \\), the likelihood function for the exponential distribution is:\n",
        "\n",
        "$$ L(λ) = λ^n e^{-λ \\sum_{i=1}^n x_i}  $$\n",
        "\n",
        "The log-likelihood function is:\n",
        "\n",
        "$$  \\ell(λ) = n \\log(λ) - λ \\sum_{i=1}^n x_i  $$\n",
        "\n",
        "To find the maximum likelihood estimate (MLE) of \\( λ \\), we take the derivative of ℓ(λ) with respect to \\( λ \\) and set it to zero:\n",
        "\n",
        "$$  \\frac{d\\ell}{dλ} = \\frac{n}{λ} - \\sum_{i=1}^n x_i = 0  $$\n",
        "$$  λ = \\frac{n}{\\sum_{i=1}^n x_i} $$\n",
        "\n",
        "This gives us the MLE of \\( λ \\) as the reciprocal of the sample mean.\n"
      ]
    },
    {
      "cell_type": "code",
      "execution_count": 5,
      "metadata": {
        "colab": {
          "base_uri": "https://localhost:8080/"
        },
        "id": "k1UV9NjoryAx",
        "outputId": "744ffe73-06c2-488c-ca39-041e4a16fba4"
      },
      "outputs": [
        {
          "name": "stdout",
          "output_type": "stream",
          "text": [
            "True lambda: 0.2\n",
            "MLE of lambda: 0.2046037993599483\n",
            "Mean of dataset: 4.8874947734511744\n",
            "Reciprocal of MLE (estimated mean waiting time): 4.8874947734511744\n"
          ]
        }
      ],
      "source": [
        "import numpy as np\n",
        "\n",
        "# Set the true parameter for exponential distribution\n",
        "lambda_true = 0.2  # This corresponds to an average waiting time of 5 minutes\n",
        "\n",
        "# Generate random samples from exponential distribution\n",
        "np.random.seed(42)\n",
        "sample_size = 10000\n",
        "data = np.random.exponential(1/lambda_true, sample_size)\n",
        "\n",
        "# MLE for lambda\n",
        "lambda_mle = sample_size / np.sum(data)\n",
        "\n",
        "print(f\"True lambda: {lambda_true}\")\n",
        "print(f\"MLE of lambda: {lambda_mle}\")\n",
        "print(f\"Mean of dataset: {np.mean(data)}\")\n",
        "print(f\"Reciprocal of MLE (estimated mean waiting time): {1/lambda_mle}\")\n"
      ]
    }
  ],
  "metadata": {
    "accelerator": "GPU",
    "colab": {
      "gpuType": "T4",
      "machine_shape": "hm",
      "provenance": []
    },
    "kernelspec": {
      "display_name": "Python 3",
      "name": "python3"
    },
    "language_info": {
      "name": "python"
    }
  },
  "nbformat": 4,
  "nbformat_minor": 0
}
