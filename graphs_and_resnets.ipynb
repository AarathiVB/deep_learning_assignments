{
  "cells": [
    {
      "cell_type": "markdown",
      "metadata": {},
      "source": [
        "# Assignment 4: Graphs & ResNets\n",
        "\n",
        "### Assignment question is available here: https://ovgu-ailab.github.io/idl2023/assignment4.html"
      ]
    },
    {
      "cell_type": "markdown",
      "metadata": {
        "id": "ZtZjbzouFyrF"
      },
      "source": [
        "# ResNet on CIFAR-10\n",
        "\n",
        "### Code-1"
      ]
    },
    {
      "cell_type": "code",
      "execution_count": 6,
      "metadata": {
        "colab": {
          "base_uri": "https://localhost:8080/"
        },
        "id": "81iGcdri3z5q",
        "outputId": "c0ed8ffb-96e1-4667-b239-4daeedf0b4b0"
      },
      "outputs": [
        {
          "name": "stdout",
          "output_type": "stream",
          "text": [
            "Epoch 1/10\n",
            "782/782 [==============================] - 288s 366ms/step - loss: 1.8397 - accuracy: 0.2946 - val_loss: 1.6846 - val_accuracy: 0.3573\n",
            "Epoch 2/10\n",
            "782/782 [==============================] - 276s 353ms/step - loss: 1.5934 - accuracy: 0.4060 - val_loss: 1.5864 - val_accuracy: 0.4059\n",
            "Epoch 3/10\n",
            "782/782 [==============================] - 279s 357ms/step - loss: 1.4514 - accuracy: 0.4686 - val_loss: 1.3681 - val_accuracy: 0.4977\n",
            "Epoch 4/10\n",
            "782/782 [==============================] - 284s 364ms/step - loss: 1.3333 - accuracy: 0.5146 - val_loss: 1.2691 - val_accuracy: 0.5382\n",
            "Epoch 5/10\n",
            "782/782 [==============================] - 284s 364ms/step - loss: 1.2646 - accuracy: 0.5419 - val_loss: 1.2462 - val_accuracy: 0.5412\n",
            "Epoch 6/10\n",
            "782/782 [==============================] - 286s 366ms/step - loss: 1.2119 - accuracy: 0.5594 - val_loss: 1.1760 - val_accuracy: 0.5780\n",
            "Epoch 7/10\n",
            "782/782 [==============================] - 275s 352ms/step - loss: 1.1669 - accuracy: 0.5793 - val_loss: 1.1301 - val_accuracy: 0.5906\n",
            "Epoch 8/10\n",
            "782/782 [==============================] - 286s 366ms/step - loss: 1.1360 - accuracy: 0.5901 - val_loss: 1.1652 - val_accuracy: 0.5717\n",
            "Epoch 9/10\n",
            "782/782 [==============================] - 275s 352ms/step - loss: 1.1072 - accuracy: 0.6020 - val_loss: 1.1008 - val_accuracy: 0.5942\n",
            "Epoch 10/10\n",
            "782/782 [==============================] - 274s 350ms/step - loss: 1.0806 - accuracy: 0.6120 - val_loss: 1.1124 - val_accuracy: 0.6034\n",
            "313/313 - 11s - loss: 1.1124 - accuracy: 0.6034 - 11s/epoch - 35ms/step\n",
            "Test accuracy: 0.6033999919891357\n"
          ]
        }
      ],
      "source": [
        "import tensorflow as tf\n",
        "from tensorflow.keras.layers import Input, Conv2D, MaxPooling2D, GlobalAveragePooling2D, Dense, Add\n",
        "\n",
        "# Define the residual block\n",
        "def residual_block(x, filters, kernel_size=3, stride=1):\n",
        "    # Shortcut connection\n",
        "    shortcut = x\n",
        "\n",
        "    # First convolution layer\n",
        "    x = Conv2D(filters, kernel_size=kernel_size, strides=stride, padding='same')(x)\n",
        "    x = tf.keras.layers.ReLU()(x)\n",
        "\n",
        "    # Second convolution layer\n",
        "    x = Conv2D(filters, kernel_size=kernel_size, strides=1, padding='same')(x)\n",
        "\n",
        "    # Add the shortcut to the output\n",
        "    x = Add()([x, shortcut])\n",
        "\n",
        "    return x\n",
        "\n",
        "# Define the ResNet model\n",
        "def build_resnet(input_shape, num_classes, num_blocks=3, num_filters=16):\n",
        "    input_layer = Input(shape=input_shape)\n",
        "    x = Conv2D(num_filters, kernel_size=3, strides=1, padding='same')(input_layer)\n",
        "\n",
        "    # Create residual blocks\n",
        "    for _ in range(num_blocks):\n",
        "        x = residual_block(x, num_filters)\n",
        "\n",
        "    # Add a Global Average Pooling layer\n",
        "    x = GlobalAveragePooling2D()(x)\n",
        "\n",
        "    # Output layer\n",
        "    output_layer = Dense(num_classes, activation='softmax')(x)\n",
        "\n",
        "    model = tf.keras.Model(inputs=input_layer, outputs=output_layer)\n",
        "\n",
        "    return model\n",
        "\n",
        "# Define CIFAR-10 data preprocessing\n",
        "(x_train, y_train), (x_test, y_test) = tf.keras.datasets.cifar10.load_data()\n",
        "x_train, x_test = x_train / 255.0, x_test / 255.0\n",
        "y_train = tf.keras.utils.to_categorical(y_train, num_classes=10)\n",
        "y_test = tf.keras.utils.to_categorical(y_test, num_classes=10)\n",
        "\n",
        "# Create and compile the model\n",
        "input_shape = x_train.shape[1:]\n",
        "model = build_resnet(input_shape, num_classes=10, num_blocks=3, num_filters=16)\n",
        "model.compile(optimizer='adam', loss='categorical_crossentropy', metrics=['accuracy'])\n",
        "\n",
        "# Train the model\n",
        "model.fit(x_train, y_train, batch_size=64, epochs=10, validation_data=(x_test, y_test))\n",
        "\n",
        "# Evaluate the model\n",
        "test_loss, test_acc = model.evaluate(x_test, y_test, verbose=2)\n",
        "print(f\"Test accuracy: {test_acc}\")\n"
      ]
    },
    {
      "cell_type": "markdown",
      "metadata": {
        "id": "_JriT1TlGNIJ"
      },
      "source": [
        "## Experimenting with different (hyper)parameters\n",
        "\n",
        "### Code - 2"
      ]
    },
    {
      "cell_type": "code",
      "execution_count": 7,
      "metadata": {
        "colab": {
          "base_uri": "https://localhost:8080/"
        },
        "id": "02wHTu8Q5-XC",
        "outputId": "d81dd3ad-710b-4b25-e741-cd11c912dc7a"
      },
      "outputs": [
        {
          "name": "stdout",
          "output_type": "stream",
          "text": [
            "Epoch 1/10\n",
            "391/391 [==============================] - 802s 2s/step - loss: 1.5500 - accuracy: 0.4421 - val_loss: 2.5872 - val_accuracy: 0.1740\n",
            "Epoch 2/10\n",
            "391/391 [==============================] - 769s 2s/step - loss: 1.1906 - accuracy: 0.5755 - val_loss: 1.5725 - val_accuracy: 0.4664\n",
            "Epoch 3/10\n",
            "391/391 [==============================] - 757s 2s/step - loss: 1.0535 - accuracy: 0.6288 - val_loss: 1.4842 - val_accuracy: 0.4745\n",
            "Epoch 4/10\n",
            "391/391 [==============================] - 768s 2s/step - loss: 0.9561 - accuracy: 0.6645 - val_loss: 1.2620 - val_accuracy: 0.5504\n",
            "Epoch 5/10\n",
            "391/391 [==============================] - 760s 2s/step - loss: 0.8883 - accuracy: 0.6861 - val_loss: 1.1267 - val_accuracy: 0.5965\n",
            "Epoch 6/10\n",
            "391/391 [==============================] - 760s 2s/step - loss: 0.8394 - accuracy: 0.7052 - val_loss: 1.1479 - val_accuracy: 0.5831\n",
            "Epoch 7/10\n",
            "391/391 [==============================] - 760s 2s/step - loss: 0.7946 - accuracy: 0.7223 - val_loss: 1.2348 - val_accuracy: 0.5447\n",
            "Epoch 8/10\n",
            "391/391 [==============================] - 750s 2s/step - loss: 0.7630 - accuracy: 0.7338 - val_loss: 3.3230 - val_accuracy: 0.3759\n",
            "Epoch 9/10\n",
            "391/391 [==============================] - 753s 2s/step - loss: 0.7290 - accuracy: 0.7460 - val_loss: 1.4887 - val_accuracy: 0.5498\n",
            "Epoch 10/10\n",
            "391/391 [==============================] - 758s 2s/step - loss: 0.7059 - accuracy: 0.7555 - val_loss: 1.0569 - val_accuracy: 0.6468\n",
            "313/313 [==============================] - 34s 108ms/step - loss: 1.0569 - accuracy: 0.6468\n",
            "Test accuracy: 0.6467999815940857\n"
          ]
        }
      ],
      "source": [
        "import tensorflow as tf\n",
        "from tensorflow.keras.layers import Input, Conv2D, BatchNormalization, ReLU, Add, GlobalAveragePooling2D, Dense\n",
        "from tensorflow.keras.datasets import cifar10\n",
        "from tensorflow.keras.utils import to_categorical\n",
        "\n",
        "# Define the residual block\n",
        "def residual_block(x, filters, kernel_size=3, strides=1):\n",
        "    shortcut = x\n",
        "    x = Conv2D(filters, kernel_size, strides=strides, padding='same')(x)\n",
        "    x = BatchNormalization()(x)\n",
        "    x = ReLU()(x)\n",
        "\n",
        "    x = Conv2D(filters, kernel_size, padding='same')(x)\n",
        "    x = BatchNormalization()(x)\n",
        "\n",
        "    # Check if the input and output shapes match\n",
        "    if shortcut.shape[-1] != x.shape[-1]:\n",
        "        shortcut = Conv2D(filters, kernel_size=1, strides=strides, padding='same')(shortcut)\n",
        "\n",
        "    x = Add()([x, shortcut])\n",
        "    x = ReLU()(x)\n",
        "    return x\n",
        "\n",
        "# Build the simplified ResNet model\n",
        "def build_resnet(input_shape, num_classes):\n",
        "    input_layer = Input(shape=input_shape)\n",
        "\n",
        "    # Initial convolution layer\n",
        "    x = Conv2D(32, 3, padding='same')(input_layer)\n",
        "    x = BatchNormalization()(x)\n",
        "    x = ReLU()(x)\n",
        "\n",
        "    # Residual blocks\n",
        "    num_blocks = 3  # experiment with this number\n",
        "    filters = 32  # experiment with this number\n",
        "\n",
        "    for _ in range(num_blocks):\n",
        "        x = residual_block(x, filters)\n",
        "\n",
        "    # Global average pooling and final classification layer\n",
        "    x = GlobalAveragePooling2D()(x)\n",
        "    output_layer = Dense(num_classes, activation='softmax')(x)\n",
        "\n",
        "    model = tf.keras.Model(inputs=input_layer, outputs=output_layer)\n",
        "\n",
        "    return model\n",
        "\n",
        "# Load CIFAR-10 data and preprocess\n",
        "(x_train, y_train), (x_test, y_test) = cifar10.load_data()\n",
        "x_train, x_test = x_train / 255.0, x_test / 255.0\n",
        "y_train = to_categorical(y_train, 10)\n",
        "y_test = to_categorical(y_test, 10)\n",
        "\n",
        "# Define hyperparameters\n",
        "batch_size = 128\n",
        "learning_rate = 0.001\n",
        "num_epochs = 10  # experiment with this number\n",
        "\n",
        "# Build and compile the simplified ResNet model\n",
        "input_shape = x_train[0].shape\n",
        "num_classes = 10\n",
        "model = build_resnet(input_shape, num_classes)\n",
        "model.compile(optimizer=tf.keras.optimizers.Adam(learning_rate), loss='categorical_crossentropy', metrics=['accuracy'])\n",
        "\n",
        "# Train the model\n",
        "history = model.fit(x_train, y_train, epochs=num_epochs, batch_size=batch_size, validation_data=(x_test, y_test))\n",
        "\n",
        "# Evaluate the model\n",
        "test_loss, test_acc = model.evaluate(x_test, y_test)\n",
        "print(f'Test accuracy: {test_acc}')\n"
      ]
    },
    {
      "cell_type": "markdown",
      "metadata": {
        "id": "UU4FIHuUHHCC"
      },
      "source": [
        "###  Comparing performance of Code-1 with and without tf.function"
      ]
    },
    {
      "cell_type": "code",
      "execution_count": 2,
      "metadata": {
        "colab": {
          "base_uri": "https://localhost:8080/"
        },
        "id": "Lu00V0-3BSId",
        "outputId": "d69940b2-3d56-4819-8ad6-b0b3aa0b7373"
      },
      "outputs": [
        {
          "name": "stdout",
          "output_type": "stream",
          "text": [
            "Epoch 1/2\n",
            "782/782 [==============================] - 243s 309ms/step - loss: 1.8731 - accuracy: 0.2862 - val_loss: 1.6675 - val_accuracy: 0.3743\n",
            "Epoch 2/2\n",
            "782/782 [==============================] - 242s 310ms/step - loss: 1.6084 - accuracy: 0.3968 - val_loss: 1.5340 - val_accuracy: 0.4374\n",
            "313/313 - 10s - loss: 1.5340 - accuracy: 0.4374 - 10s/epoch - 33ms/step\n",
            "Test accuracy without tf.function: 0.4374000132083893\n",
            "Epoch 1/10 - Test accuracy with tf.function: 0.4952999949455261\n",
            "Epoch 2/10 - Test accuracy with tf.function: 0.5332000255584717\n"
          ]
        }
      ],
      "source": [
        "import tensorflow as tf\n",
        "from tensorflow.keras.layers import Input, Conv2D, MaxPooling2D, GlobalAveragePooling2D, Dense, Add\n",
        "\n",
        "# Define the residual block\n",
        "def residual_block(x, filters, kernel_size=3, stride=1):\n",
        "    # Shortcut connection\n",
        "    shortcut = x\n",
        "\n",
        "    # First convolution layer\n",
        "    x = Conv2D(filters, kernel_size=kernel_size, strides=stride, padding='same')(x)\n",
        "    x = tf.keras.layers.ReLU()(x)\n",
        "\n",
        "    # Second convolution layer\n",
        "    x = Conv2D(filters, kernel_size=kernel_size, strides=1, padding='same')(x)\n",
        "\n",
        "    # Add the shortcut to the output\n",
        "    x = Add()([x, shortcut])\n",
        "\n",
        "    return x\n",
        "\n",
        "# Define the ResNet model\n",
        "def build_resnet(input_shape, num_classes, num_blocks=3, num_filters=16):\n",
        "    input_layer = Input(shape=input_shape)\n",
        "    x = Conv2D(num_filters, kernel_size=3, strides=1, padding='same')(input_layer)\n",
        "\n",
        "    # Create residual blocks\n",
        "    for _ in range(num_blocks):\n",
        "        x = residual_block(x, num_filters)\n",
        "\n",
        "    # Add a Global Average Pooling layer\n",
        "    x = GlobalAveragePooling2D()(x)\n",
        "\n",
        "    # Output layer\n",
        "    output_layer = Dense(num_classes, activation='softmax')(x)\n",
        "\n",
        "    model = tf.keras.Model(inputs=input_layer, outputs=output_layer)\n",
        "\n",
        "    return model\n",
        "\n",
        "# Define CIFAR-10 data preprocessing\n",
        "(x_train, y_train), (x_test, y_test) = tf.keras.datasets.cifar10.load_data()\n",
        "x_train, x_test = x_train / 255.0, x_test / 255.0\n",
        "y_train = tf.keras.utils.to_categorical(y_train, num_classes=10)\n",
        "y_test = tf.keras.utils.to_categorical(y_test, num_classes=10)\n",
        "\n",
        "# Create and compile the model\n",
        "input_shape = x_train.shape[1:]\n",
        "model = build_resnet(input_shape, num_classes=10, num_blocks=3, num_filters=16)\n",
        "\n",
        "# Without tf.function\n",
        "model.compile(optimizer='adam', loss='categorical_crossentropy', metrics=['accuracy'])\n",
        "model.fit(x_train, y_train, batch_size=64, epochs=2, validation_data=(x_test, y_test))\n",
        "test_loss, test_acc = model.evaluate(x_test, y_test, verbose=2)\n",
        "print(f\"Test accuracy without tf.function: {test_acc}\")\n",
        "\n",
        "# With tf.function\n",
        "@tf.function\n",
        "def train_step(images, labels):\n",
        "    with tf.GradientTape() as tape:\n",
        "        predictions = model(images)\n",
        "        loss = tf.reduce_mean(tf.keras.losses.categorical_crossentropy(labels, predictions))\n",
        "    gradients = tape.gradient(loss, model.trainable_variables)\n",
        "    optimizer.apply_gradients(zip(gradients, model.trainable_variables))\n",
        "    return loss\n",
        "\n",
        "optimizer = tf.keras.optimizers.Adam()\n",
        "for epoch in range(2):\n",
        "    for i in range(0, len(x_train), 64):\n",
        "        x_batch = x_train[i:i+64]\n",
        "        y_batch = y_train[i:i+64]\n",
        "        loss = train_step(x_batch, y_batch)\n",
        "    test_loss, test_acc = model.evaluate(x_test, y_test, verbose=0)\n",
        "    print(f'Epoch {epoch+1}/10 - Test accuracy with tf.function: {test_acc}')\n"
      ]
    },
    {
      "cell_type": "markdown",
      "metadata": {
        "id": "X4rh3N6U2Sta"
      },
      "source": [
        "#### Test accuracy with tf.function is much higher than Test accuracy without tf.function"
      ]
    }
  ],
  "metadata": {
    "colab": {
      "provenance": []
    },
    "kernelspec": {
      "display_name": "Python 3",
      "name": "python3"
    },
    "language_info": {
      "name": "python"
    }
  },
  "nbformat": 4,
  "nbformat_minor": 0
}
